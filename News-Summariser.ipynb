{
 "cells": [
  {
   "attachments": {},
   "cell_type": "markdown",
   "metadata": {},
   "source": [
    "# Introduction\n",
    "\n",
    "News articles are written in order to inform about recent events to readers. They are used to give readers the knowledge they need or want to learn about the world around them.\n",
    "\n",
    "In today’s era it is difficult for most of us to read through the whole news article. With so many articles available online, it's hard to find the time to read everything. Plus, if the articles are in a language you are not familiar with. \n",
    "\n",
    "In this project we will be developing a tool using Machine Learning in Python that will summarise the article and also translate it in different languages."
   ]
  },
  {
   "attachments": {},
   "cell_type": "markdown",
   "metadata": {},
   "source": [
    "# Problem Statement\n",
    "\n",
    "**The problem that we are facing are: -** \n",
    "1. Keeping up with the news in today's hectic environment is difficult. With so many news articles available online it is difficult to go through all of them. \n",
    "\n",
    "2. If you are living in a foreign country it is difficult to read or translate a language you are not familiar with. Most of us are only interested in knowing the keyword. "
   ]
  },
  {
   "attachments": {},
   "cell_type": "markdown",
   "metadata": {},
   "source": [
    "# Data Exploration\n",
    "\n",
    "In this project we will start by importing necessary libraries then we will load the dataset, check the shape of the dataset, info of the dataset, we will also check if there are any duplicate values in our dataset column, then we will check for null values in the dataset and the type of the dataset columns."
   ]
  },
  {
   "cell_type": "code",
   "execution_count": 1,
   "metadata": {},
   "outputs": [],
   "source": [
    "import time\n",
    "import pandas as pd\n",
    "from transformers import pipeline\n",
    "from googletrans import Translator\n",
    "from sumy.summarizers.lsa import LsaSummarizer"
   ]
  },
  {
   "cell_type": "code",
   "execution_count": 2,
   "metadata": {},
   "outputs": [
    {
     "data": {
      "text/html": [
       "<div>\n",
       "<style scoped>\n",
       "    .dataframe tbody tr th:only-of-type {\n",
       "        vertical-align: middle;\n",
       "    }\n",
       "\n",
       "    .dataframe tbody tr th {\n",
       "        vertical-align: top;\n",
       "    }\n",
       "\n",
       "    .dataframe thead th {\n",
       "        text-align: right;\n",
       "    }\n",
       "</style>\n",
       "<table border=\"1\" class=\"dataframe\">\n",
       "  <thead>\n",
       "    <tr style=\"text-align: right;\">\n",
       "      <th></th>\n",
       "      <th>title</th>\n",
       "      <th>text</th>\n",
       "      <th>author</th>\n",
       "      <th>published</th>\n",
       "      <th>tags</th>\n",
       "      <th>source</th>\n",
       "    </tr>\n",
       "  </thead>\n",
       "  <tbody>\n",
       "    <tr>\n",
       "      <th>0</th>\n",
       "      <td>Warum nicht mal die Russen Putins Impfstoff wo...</td>\n",
       "      <td>Im Kreml sollte es in diesen Tagen eigentlich ...</td>\n",
       "      <td>Pavel Lokshin</td>\n",
       "      <td>1602234820</td>\n",
       "      <td>Ausland, „Sputnik V“</td>\n",
       "      <td>welt</td>\n",
       "    </tr>\n",
       "    <tr>\n",
       "      <th>1</th>\n",
       "      <td>Mario Götze schwärmt von Schmidts Philosophie</td>\n",
       "      <td>NaN</td>\n",
       "      <td>NaN</td>\n",
       "      <td>1602234283</td>\n",
       "      <td>Sport, PSV Eindhoven</td>\n",
       "      <td>welt</td>\n",
       "    </tr>\n",
       "    <tr>\n",
       "      <th>2</th>\n",
       "      <td>Welternährungsprogramm erhält den Friedensnobe...</td>\n",
       "      <td>Der Preis setze ein Zeichen für die Millionen ...</td>\n",
       "      <td>'Hannes Stein', 'Birgit Herden', 'Dirk Schümer...</td>\n",
       "      <td>1602234160</td>\n",
       "      <td>Ausland, Oslo</td>\n",
       "      <td>welt</td>\n",
       "    </tr>\n",
       "  </tbody>\n",
       "</table>\n",
       "</div>"
      ],
      "text/plain": [
       "                                               title  \\\n",
       "0  Warum nicht mal die Russen Putins Impfstoff wo...   \n",
       "1      Mario Götze schwärmt von Schmidts Philosophie   \n",
       "2  Welternährungsprogramm erhält den Friedensnobe...   \n",
       "\n",
       "                                                text  \\\n",
       "0  Im Kreml sollte es in diesen Tagen eigentlich ...   \n",
       "1                                                NaN   \n",
       "2  Der Preis setze ein Zeichen für die Millionen ...   \n",
       "\n",
       "                                              author   published  \\\n",
       "0                                      Pavel Lokshin  1602234820   \n",
       "1                                                NaN  1602234283   \n",
       "2  'Hannes Stein', 'Birgit Herden', 'Dirk Schümer...  1602234160   \n",
       "\n",
       "                   tags source  \n",
       "0  Ausland, „Sputnik V“   welt  \n",
       "1  Sport, PSV Eindhoven   welt  \n",
       "2         Ausland, Oslo   welt  "
      ]
     },
     "execution_count": 2,
     "metadata": {},
     "output_type": "execute_result"
    }
   ],
   "source": [
    "# Load the dataset\n",
    "df = pd.read_csv('data.csv')\n",
    "df.head(3)"
   ]
  },
  {
   "attachments": {},
   "cell_type": "markdown",
   "metadata": {},
   "source": [
    "Checking the shape of the dataset. In our dataset we have 174939 rows and 6 features."
   ]
  },
  {
   "cell_type": "code",
   "execution_count": 3,
   "metadata": {},
   "outputs": [
    {
     "data": {
      "text/plain": [
       "(174939, 6)"
      ]
     },
     "execution_count": 3,
     "metadata": {},
     "output_type": "execute_result"
    }
   ],
   "source": [
    "df.shape"
   ]
  },
  {
   "attachments": {},
   "cell_type": "markdown",
   "metadata": {},
   "source": [
    "Checkind the info of the dataset. We can see the dataset column names, shapes, and so on."
   ]
  },
  {
   "cell_type": "code",
   "execution_count": 4,
   "metadata": {},
   "outputs": [
    {
     "name": "stdout",
     "output_type": "stream",
     "text": [
      "<class 'pandas.core.frame.DataFrame'>\n",
      "RangeIndex: 174939 entries, 0 to 174938\n",
      "Data columns (total 6 columns):\n",
      " #   Column     Non-Null Count   Dtype \n",
      "---  ------     --------------   ----- \n",
      " 0   title      174939 non-null  object\n",
      " 1   text       167280 non-null  object\n",
      " 2   author     151235 non-null  object\n",
      " 3   published  174915 non-null  object\n",
      " 4   tags       174939 non-null  object\n",
      " 5   source     174939 non-null  object\n",
      "dtypes: object(6)\n",
      "memory usage: 8.0+ MB\n"
     ]
    }
   ],
   "source": [
    "df.info()"
   ]
  },
  {
   "attachments": {},
   "cell_type": "markdown",
   "metadata": {},
   "source": [
    "Checking if there are any duplicate values in the dataset columns.\n",
    "In the 'Title' column we have 11948 duplicate values. "
   ]
  },
  {
   "cell_type": "code",
   "execution_count": 5,
   "metadata": {},
   "outputs": [
    {
     "data": {
      "text/plain": [
       "11948"
      ]
     },
     "execution_count": 5,
     "metadata": {},
     "output_type": "execute_result"
    }
   ],
   "source": [
    "df['title'].duplicated().sum()"
   ]
  },
  {
   "attachments": {},
   "cell_type": "markdown",
   "metadata": {},
   "source": [
    "In the 'Text' column we have 25700 duplicate values. "
   ]
  },
  {
   "cell_type": "code",
   "execution_count": 6,
   "metadata": {},
   "outputs": [
    {
     "data": {
      "text/plain": [
       "25700"
      ]
     },
     "execution_count": 6,
     "metadata": {},
     "output_type": "execute_result"
    }
   ],
   "source": [
    "df['text'].duplicated().sum()"
   ]
  },
  {
   "attachments": {},
   "cell_type": "markdown",
   "metadata": {},
   "source": [
    "In the 'Published' column we have 20061 duplicate values. "
   ]
  },
  {
   "cell_type": "code",
   "execution_count": 7,
   "metadata": {},
   "outputs": [
    {
     "data": {
      "text/plain": [
       "20061"
      ]
     },
     "execution_count": 7,
     "metadata": {},
     "output_type": "execute_result"
    }
   ],
   "source": [
    "df['published'].duplicated().sum()"
   ]
  },
  {
   "attachments": {},
   "cell_type": "markdown",
   "metadata": {},
   "source": [
    "In the 'Author' column we have 136748 duplicate values. "
   ]
  },
  {
   "cell_type": "code",
   "execution_count": 8,
   "metadata": {},
   "outputs": [
    {
     "data": {
      "text/plain": [
       "136748"
      ]
     },
     "execution_count": 8,
     "metadata": {},
     "output_type": "execute_result"
    }
   ],
   "source": [
    "df['author'].duplicated().sum()"
   ]
  },
  {
   "attachments": {},
   "cell_type": "markdown",
   "metadata": {},
   "source": [
    "In the 'Tags' column we have 131395 duplicate values. "
   ]
  },
  {
   "cell_type": "code",
   "execution_count": 9,
   "metadata": {},
   "outputs": [
    {
     "data": {
      "text/plain": [
       "131395"
      ]
     },
     "execution_count": 9,
     "metadata": {},
     "output_type": "execute_result"
    }
   ],
   "source": [
    "df['tags'].duplicated().sum()"
   ]
  },
  {
   "attachments": {},
   "cell_type": "markdown",
   "metadata": {},
   "source": [
    "In the 'Source' column we have 174891 duplicate values. "
   ]
  },
  {
   "cell_type": "code",
   "execution_count": 10,
   "metadata": {},
   "outputs": [
    {
     "data": {
      "text/plain": [
       "174891"
      ]
     },
     "execution_count": 10,
     "metadata": {},
     "output_type": "execute_result"
    }
   ],
   "source": [
    "df['source'].duplicated().sum()"
   ]
  },
  {
   "attachments": {},
   "cell_type": "markdown",
   "metadata": {},
   "source": [
    "Checking  if there are any null values in the dataset columns. We have 7659 missing values in the 'text' column, 23704 missing values in the 'author' column, and 24 null values in the 'published' column. "
   ]
  },
  {
   "cell_type": "code",
   "execution_count": 11,
   "metadata": {},
   "outputs": [
    {
     "data": {
      "text/plain": [
       "title            0\n",
       "text          7659\n",
       "author       23704\n",
       "published       24\n",
       "tags             0\n",
       "source           0\n",
       "dtype: int64"
      ]
     },
     "execution_count": 11,
     "metadata": {},
     "output_type": "execute_result"
    }
   ],
   "source": [
    "df.isnull().sum()"
   ]
  },
  {
   "attachments": {},
   "cell_type": "markdown",
   "metadata": {},
   "source": [
    "Checking the type of the dataset columns. The type of the dataset columns are 'object' it can probably, because the columns contains string, integer or any other mix values."
   ]
  },
  {
   "cell_type": "code",
   "execution_count": 12,
   "metadata": {},
   "outputs": [
    {
     "data": {
      "text/plain": [
       "title        object\n",
       "text         object\n",
       "author       object\n",
       "published    object\n",
       "tags         object\n",
       "source       object\n",
       "dtype: object"
      ]
     },
     "execution_count": 12,
     "metadata": {},
     "output_type": "execute_result"
    }
   ],
   "source": [
    "df.dtypes"
   ]
  },
  {
   "attachments": {},
   "cell_type": "markdown",
   "metadata": {},
   "source": [
    "# Data Cleaning"
   ]
  },
  {
   "attachments": {},
   "cell_type": "markdown",
   "metadata": {},
   "source": [
    "Removing the rows of null values from the 'text' column of the dataset.\n",
    "\n",
    "Replacing the null values from the 'author' column of the dataset with 'Unknown'.\n",
    "\n",
    "Dropping 'published' and 'tags' column from the dataset because they are not so useful for this project."
   ]
  },
  {
   "cell_type": "code",
   "execution_count": 13,
   "metadata": {},
   "outputs": [
    {
     "name": "stderr",
     "output_type": "stream",
     "text": [
      "/var/folders/qv/t3bdfppn5sdbtw0qfxm2t0z40000gn/T/ipykernel_26617/454520597.py:5: FutureWarning: A value is trying to be set on a copy of a DataFrame or Series through chained assignment using an inplace method.\n",
      "The behavior will change in pandas 3.0. This inplace method will never work because the intermediate object on which we are setting values always behaves as a copy.\n",
      "\n",
      "For example, when doing 'df[col].method(value, inplace=True)', try using 'df.method({col: value}, inplace=True)' or df[col] = df[col].method(value) instead, to perform the operation inplace on the original object.\n",
      "\n",
      "\n",
      "  df['author'].fillna('Unknown', inplace=True)\n"
     ]
    }
   ],
   "source": [
    "# Removing rows with null values in the 'text' column\n",
    "df.dropna(subset=['text'], inplace=True)\n",
    "\n",
    "# Replacing missing values in the 'author' column with 'Unknown'\n",
    "df['author'].fillna('Unknown', inplace=True)\n",
    "\n",
    "# Dropping the 'published' column\n",
    "df.drop(columns=['published'], inplace=True)\n",
    "\n",
    "df.drop(columns=['tags'], inplace=True)"
   ]
  },
  {
   "attachments": {},
   "cell_type": "markdown",
   "metadata": {},
   "source": [
    "Checking if there are still any null values in the dataset."
   ]
  },
  {
   "cell_type": "code",
   "execution_count": 14,
   "metadata": {},
   "outputs": [
    {
     "data": {
      "text/plain": [
       "title     0\n",
       "text      0\n",
       "author    0\n",
       "source    0\n",
       "dtype: int64"
      ]
     },
     "execution_count": 14,
     "metadata": {},
     "output_type": "execute_result"
    }
   ],
   "source": [
    "df.isnull().sum()"
   ]
  },
  {
   "attachments": {},
   "cell_type": "markdown",
   "metadata": {},
   "source": [
    "Dropping the rows that conatins duplicate values from 'Title', 'Text', 'Author', and 'Source' columns."
   ]
  },
  {
   "cell_type": "code",
   "execution_count": 15,
   "metadata": {},
   "outputs": [],
   "source": [
    "df.drop_duplicates(subset=['title', 'text', 'author', 'source'], inplace=True)"
   ]
  },
  {
   "attachments": {},
   "cell_type": "markdown",
   "metadata": {},
   "source": [
    "After dropping the duplicated values and removing the rows with null values. Checking the shape of the dataset. Now the shape of the dataset is 163987 rows and 4 features."
   ]
  },
  {
   "cell_type": "code",
   "execution_count": 16,
   "metadata": {},
   "outputs": [
    {
     "data": {
      "text/plain": [
       "(163987, 4)"
      ]
     },
     "execution_count": 16,
     "metadata": {},
     "output_type": "execute_result"
    }
   ],
   "source": [
    "df.shape"
   ]
  },
  {
   "attachments": {},
   "cell_type": "markdown",
   "metadata": {},
   "source": [
    "Converting the types of the dataset columns uing convert_dtypes()."
   ]
  },
  {
   "cell_type": "code",
   "execution_count": 17,
   "metadata": {},
   "outputs": [
    {
     "data": {
      "text/plain": [
       "title     string[python]\n",
       "text      string[python]\n",
       "author    string[python]\n",
       "source    string[python]\n",
       "dtype: object"
      ]
     },
     "execution_count": 17,
     "metadata": {},
     "output_type": "execute_result"
    }
   ],
   "source": [
    "df = df.convert_dtypes()\n",
    "df.dtypes"
   ]
  },
  {
   "attachments": {},
   "cell_type": "markdown",
   "metadata": {},
   "source": [
    "Checking if everything is done properly."
   ]
  },
  {
   "cell_type": "code",
   "execution_count": 18,
   "metadata": {},
   "outputs": [
    {
     "data": {
      "text/html": [
       "<div>\n",
       "<style scoped>\n",
       "    .dataframe tbody tr th:only-of-type {\n",
       "        vertical-align: middle;\n",
       "    }\n",
       "\n",
       "    .dataframe tbody tr th {\n",
       "        vertical-align: top;\n",
       "    }\n",
       "\n",
       "    .dataframe thead th {\n",
       "        text-align: right;\n",
       "    }\n",
       "</style>\n",
       "<table border=\"1\" class=\"dataframe\">\n",
       "  <thead>\n",
       "    <tr style=\"text-align: right;\">\n",
       "      <th></th>\n",
       "      <th>title</th>\n",
       "      <th>text</th>\n",
       "      <th>author</th>\n",
       "      <th>source</th>\n",
       "    </tr>\n",
       "  </thead>\n",
       "  <tbody>\n",
       "    <tr>\n",
       "      <th>0</th>\n",
       "      <td>Warum nicht mal die Russen Putins Impfstoff wo...</td>\n",
       "      <td>Im Kreml sollte es in diesen Tagen eigentlich ...</td>\n",
       "      <td>Pavel Lokshin</td>\n",
       "      <td>welt</td>\n",
       "    </tr>\n",
       "    <tr>\n",
       "      <th>2</th>\n",
       "      <td>Welternährungsprogramm erhält den Friedensnobe...</td>\n",
       "      <td>Der Preis setze ein Zeichen für die Millionen ...</td>\n",
       "      <td>'Hannes Stein', 'Birgit Herden', 'Dirk Schümer...</td>\n",
       "      <td>welt</td>\n",
       "    </tr>\n",
       "    <tr>\n",
       "      <th>4</th>\n",
       "      <td>In welchen deutschen Großstädten die Lage krit...</td>\n",
       "      <td>Die Kanzlerin berät mit den Bürgermeistern der...</td>\n",
       "      <td>'Daniele Raffaele Gambone', 'Christoph B. Schi...</td>\n",
       "      <td>welt</td>\n",
       "    </tr>\n",
       "  </tbody>\n",
       "</table>\n",
       "</div>"
      ],
      "text/plain": [
       "                                               title  \\\n",
       "0  Warum nicht mal die Russen Putins Impfstoff wo...   \n",
       "2  Welternährungsprogramm erhält den Friedensnobe...   \n",
       "4  In welchen deutschen Großstädten die Lage krit...   \n",
       "\n",
       "                                                text  \\\n",
       "0  Im Kreml sollte es in diesen Tagen eigentlich ...   \n",
       "2  Der Preis setze ein Zeichen für die Millionen ...   \n",
       "4  Die Kanzlerin berät mit den Bürgermeistern der...   \n",
       "\n",
       "                                              author source  \n",
       "0                                      Pavel Lokshin   welt  \n",
       "2  'Hannes Stein', 'Birgit Herden', 'Dirk Schümer...   welt  \n",
       "4  'Daniele Raffaele Gambone', 'Christoph B. Schi...   welt  "
      ]
     },
     "execution_count": 18,
     "metadata": {},
     "output_type": "execute_result"
    }
   ],
   "source": [
    "df.head(3)"
   ]
  },
  {
   "attachments": {},
   "cell_type": "markdown",
   "metadata": {},
   "source": [
    "Translating text from German to English by using the \"googletrans\" package. A translator example is created from the \"Translator\" class. By creating a function called translate text the content of the dataset's \"text\" column can be translated from German to English and it will manage errors like the Nan value in the text column, and it will include a one-second pause between translation requests to prevent overloading. We only want to translate the news article content of the first 70 rows of the \"text\" column and put it in a new column within the same dataset as a new column named \"Translated-text\" To do this we will use boolean indexing to remove rows containing the word \"Anzeige\" which is advertisement."
   ]
  },
  {
   "cell_type": "code",
   "execution_count": 19,
   "metadata": {},
   "outputs": [
    {
     "data": {
      "text/html": [
       "<div>\n",
       "<style scoped>\n",
       "    .dataframe tbody tr th:only-of-type {\n",
       "        vertical-align: middle;\n",
       "    }\n",
       "\n",
       "    .dataframe tbody tr th {\n",
       "        vertical-align: top;\n",
       "    }\n",
       "\n",
       "    .dataframe thead th {\n",
       "        text-align: right;\n",
       "    }\n",
       "</style>\n",
       "<table border=\"1\" class=\"dataframe\">\n",
       "  <thead>\n",
       "    <tr style=\"text-align: right;\">\n",
       "      <th></th>\n",
       "      <th>title</th>\n",
       "      <th>text</th>\n",
       "      <th>author</th>\n",
       "      <th>source</th>\n",
       "      <th>Translated_text</th>\n",
       "    </tr>\n",
       "  </thead>\n",
       "  <tbody>\n",
       "    <tr>\n",
       "      <th>0</th>\n",
       "      <td>Warum nicht mal die Russen Putins Impfstoff wo...</td>\n",
       "      <td>Im Kreml sollte es in diesen Tagen eigentlich ...</td>\n",
       "      <td>Pavel Lokshin</td>\n",
       "      <td>welt</td>\n",
       "      <td>There should actually be enough reasons for tu...</td>\n",
       "    </tr>\n",
       "    <tr>\n",
       "      <th>30</th>\n",
       "      <td>Gegen diesen Wasserstoff-Plan wirkt die deutsc...</td>\n",
       "      <td>An der Great Northern Road schrauben Monteure ...</td>\n",
       "      <td>Stefanie Bolzen</td>\n",
       "      <td>welt</td>\n",
       "      <td>At the Great Northern Road screws fitters arou...</td>\n",
       "    </tr>\n",
       "    <tr>\n",
       "      <th>39</th>\n",
       "      <td>Über 5000 Neuinfektionen – Merkels 19.200er-Sz...</td>\n",
       "      <td>Zwischen Ende Juni und Ende September hat sich...</td>\n",
       "      <td>Olaf Gersemann</td>\n",
       "      <td>welt</td>\n",
       "      <td>Between the end of June and the end of Septemb...</td>\n",
       "    </tr>\n",
       "    <tr>\n",
       "      <th>44</th>\n",
       "      <td>Zaubertore! Hier schießen sich Toni Kroos und ...</td>\n",
       "      <td>Das DFB-Team trifft in der Nations League auf ...</td>\n",
       "      <td>Unknown</td>\n",
       "      <td>welt</td>\n",
       "      <td>The DFB team meets Ukraine in the Nations Leag...</td>\n",
       "    </tr>\n",
       "    <tr>\n",
       "      <th>45</th>\n",
       "      <td>FDP entzieht Thüringer Parteichef die Unterstü...</td>\n",
       "      <td>as Präsidium der Bundes-FDP hat dem thüringisc...</td>\n",
       "      <td>'Luisa Hofmeier', 'Geli Tangermann', 'Torsten ...</td>\n",
       "      <td>welt</td>\n",
       "      <td>AS Presidium of the Federal FDP withdrawn the ...</td>\n",
       "    </tr>\n",
       "  </tbody>\n",
       "</table>\n",
       "</div>"
      ],
      "text/plain": [
       "                                                title  \\\n",
       "0   Warum nicht mal die Russen Putins Impfstoff wo...   \n",
       "30  Gegen diesen Wasserstoff-Plan wirkt die deutsc...   \n",
       "39  Über 5000 Neuinfektionen – Merkels 19.200er-Sz...   \n",
       "44  Zaubertore! Hier schießen sich Toni Kroos und ...   \n",
       "45  FDP entzieht Thüringer Parteichef die Unterstü...   \n",
       "\n",
       "                                                 text  \\\n",
       "0   Im Kreml sollte es in diesen Tagen eigentlich ...   \n",
       "30  An der Great Northern Road schrauben Monteure ...   \n",
       "39  Zwischen Ende Juni und Ende September hat sich...   \n",
       "44  Das DFB-Team trifft in der Nations League auf ...   \n",
       "45  as Präsidium der Bundes-FDP hat dem thüringisc...   \n",
       "\n",
       "                                               author source  \\\n",
       "0                                       Pavel Lokshin   welt   \n",
       "30                                    Stefanie Bolzen   welt   \n",
       "39                                     Olaf Gersemann   welt   \n",
       "44                                            Unknown   welt   \n",
       "45  'Luisa Hofmeier', 'Geli Tangermann', 'Torsten ...   welt   \n",
       "\n",
       "                                      Translated_text  \n",
       "0   There should actually be enough reasons for tu...  \n",
       "30  At the Great Northern Road screws fitters arou...  \n",
       "39  Between the end of June and the end of Septemb...  \n",
       "44  The DFB team meets Ukraine in the Nations Leag...  \n",
       "45  AS Presidium of the Federal FDP withdrawn the ...  "
      ]
     },
     "execution_count": 19,
     "metadata": {},
     "output_type": "execute_result"
    }
   ],
   "source": [
    "# Initializing the translator\n",
    "translator = Translator()\n",
    "\n",
    "# Function to translate text with error handling and delay\n",
    "def translate_text(text):\n",
    "    try:\n",
    "        if pd.notnull(text):  # Checking if text is not NaN\n",
    "            translation = translator.translate(text, src='de', dest='en')\n",
    "            time.sleep(1)  # Introducing a delay of 1 second to avoid overwhelming the translation\n",
    "            return translation.text\n",
    "        else:\n",
    "            return None  # Returning None for NaN values\n",
    "    except Exception as e:\n",
    "        print(f\"Translation failed for text: {text}. Error: {str(e)}\")\n",
    "        return None\n",
    "\n",
    "# Removing rows containing \"Anzeige\" from the DataFrame\n",
    "df = df[~df['text'].str.contains('Anzeige')]\n",
    "\n",
    "# Applying translation to the remaining rows\n",
    "df['Translated_text'] = df['text'].iloc[:70].apply(translate_text)\n",
    "\n",
    "df.head(5)\n"
   ]
  },
  {
   "attachments": {},
   "cell_type": "markdown",
   "metadata": {},
   "source": [
    "We create a text summarizing pipeline using the T5 base model in order to develop text summaries using the T5 model from the Transforms library by Hugging Face. Our function creates summary and takes text as input. It creates a summary using the summarization pipeline, and then replace this summary with the original text. The dataset's \"Translated-text\" column is the target of this function. It handles the task of generating summaries for values in the \"Translated-text\" column that are not missing and it then keeps the summaries in a new column called \"Summarised-text\" that is part of the same dataset."
   ]
  },
  {
   "cell_type": "code",
   "execution_count": 20,
   "metadata": {},
   "outputs": [
    {
     "name": "stderr",
     "output_type": "stream",
     "text": [
      "Your max_length is set to 150, but your input_length is only 135. Since this is a summarization task, where outputs shorter than the input are typically wanted, you might consider decreasing max_length manually, e.g. summarizer('...', max_length=67)\n",
      "Your max_length is set to 150, but your input_length is only 119. Since this is a summarization task, where outputs shorter than the input are typically wanted, you might consider decreasing max_length manually, e.g. summarizer('...', max_length=59)\n",
      "Your max_length is set to 150, but your input_length is only 41. Since this is a summarization task, where outputs shorter than the input are typically wanted, you might consider decreasing max_length manually, e.g. summarizer('...', max_length=20)\n",
      "Your max_length is set to 150, but your input_length is only 102. Since this is a summarization task, where outputs shorter than the input are typically wanted, you might consider decreasing max_length manually, e.g. summarizer('...', max_length=51)\n",
      "Your max_length is set to 150, but your input_length is only 68. Since this is a summarization task, where outputs shorter than the input are typically wanted, you might consider decreasing max_length manually, e.g. summarizer('...', max_length=34)\n",
      "Your max_length is set to 150, but your input_length is only 56. Since this is a summarization task, where outputs shorter than the input are typically wanted, you might consider decreasing max_length manually, e.g. summarizer('...', max_length=28)\n",
      "Your max_length is set to 150, but your input_length is only 66. Since this is a summarization task, where outputs shorter than the input are typically wanted, you might consider decreasing max_length manually, e.g. summarizer('...', max_length=33)\n",
      "Your max_length is set to 150, but your input_length is only 44. Since this is a summarization task, where outputs shorter than the input are typically wanted, you might consider decreasing max_length manually, e.g. summarizer('...', max_length=22)\n",
      "Your max_length is set to 150, but your input_length is only 74. Since this is a summarization task, where outputs shorter than the input are typically wanted, you might consider decreasing max_length manually, e.g. summarizer('...', max_length=37)\n",
      "Your max_length is set to 150, but your input_length is only 79. Since this is a summarization task, where outputs shorter than the input are typically wanted, you might consider decreasing max_length manually, e.g. summarizer('...', max_length=39)\n",
      "Your max_length is set to 150, but your input_length is only 47. Since this is a summarization task, where outputs shorter than the input are typically wanted, you might consider decreasing max_length manually, e.g. summarizer('...', max_length=23)\n",
      "Your max_length is set to 150, but your input_length is only 21. Since this is a summarization task, where outputs shorter than the input are typically wanted, you might consider decreasing max_length manually, e.g. summarizer('...', max_length=10)\n",
      "Your max_length is set to 150, but your input_length is only 49. Since this is a summarization task, where outputs shorter than the input are typically wanted, you might consider decreasing max_length manually, e.g. summarizer('...', max_length=24)\n",
      "Your max_length is set to 150, but your input_length is only 138. Since this is a summarization task, where outputs shorter than the input are typically wanted, you might consider decreasing max_length manually, e.g. summarizer('...', max_length=69)\n",
      "Your max_length is set to 150, but your input_length is only 78. Since this is a summarization task, where outputs shorter than the input are typically wanted, you might consider decreasing max_length manually, e.g. summarizer('...', max_length=39)\n",
      "Your max_length is set to 150, but your input_length is only 58. Since this is a summarization task, where outputs shorter than the input are typically wanted, you might consider decreasing max_length manually, e.g. summarizer('...', max_length=29)\n",
      "Your max_length is set to 150, but your input_length is only 140. Since this is a summarization task, where outputs shorter than the input are typically wanted, you might consider decreasing max_length manually, e.g. summarizer('...', max_length=70)\n",
      "Your max_length is set to 150, but your input_length is only 49. Since this is a summarization task, where outputs shorter than the input are typically wanted, you might consider decreasing max_length manually, e.g. summarizer('...', max_length=24)\n",
      "Your max_length is set to 150, but your input_length is only 108. Since this is a summarization task, where outputs shorter than the input are typically wanted, you might consider decreasing max_length manually, e.g. summarizer('...', max_length=54)\n",
      "Your max_length is set to 150, but your input_length is only 45. Since this is a summarization task, where outputs shorter than the input are typically wanted, you might consider decreasing max_length manually, e.g. summarizer('...', max_length=22)\n",
      "Your max_length is set to 150, but your input_length is only 59. Since this is a summarization task, where outputs shorter than the input are typically wanted, you might consider decreasing max_length manually, e.g. summarizer('...', max_length=29)\n",
      "Your max_length is set to 150, but your input_length is only 74. Since this is a summarization task, where outputs shorter than the input are typically wanted, you might consider decreasing max_length manually, e.g. summarizer('...', max_length=37)\n",
      "Your max_length is set to 150, but your input_length is only 52. Since this is a summarization task, where outputs shorter than the input are typically wanted, you might consider decreasing max_length manually, e.g. summarizer('...', max_length=26)\n",
      "Your max_length is set to 150, but your input_length is only 52. Since this is a summarization task, where outputs shorter than the input are typically wanted, you might consider decreasing max_length manually, e.g. summarizer('...', max_length=26)\n",
      "Your max_length is set to 150, but your input_length is only 135. Since this is a summarization task, where outputs shorter than the input are typically wanted, you might consider decreasing max_length manually, e.g. summarizer('...', max_length=67)\n",
      "Your max_length is set to 150, but your input_length is only 119. Since this is a summarization task, where outputs shorter than the input are typically wanted, you might consider decreasing max_length manually, e.g. summarizer('...', max_length=59)\n",
      "Your max_length is set to 150, but your input_length is only 47. Since this is a summarization task, where outputs shorter than the input are typically wanted, you might consider decreasing max_length manually, e.g. summarizer('...', max_length=23)\n",
      "Your max_length is set to 150, but your input_length is only 77. Since this is a summarization task, where outputs shorter than the input are typically wanted, you might consider decreasing max_length manually, e.g. summarizer('...', max_length=38)\n",
      "Your max_length is set to 150, but your input_length is only 82. Since this is a summarization task, where outputs shorter than the input are typically wanted, you might consider decreasing max_length manually, e.g. summarizer('...', max_length=41)\n",
      "Your max_length is set to 150, but your input_length is only 70. Since this is a summarization task, where outputs shorter than the input are typically wanted, you might consider decreasing max_length manually, e.g. summarizer('...', max_length=35)\n",
      "Your max_length is set to 150, but your input_length is only 90. Since this is a summarization task, where outputs shorter than the input are typically wanted, you might consider decreasing max_length manually, e.g. summarizer('...', max_length=45)\n",
      "Your max_length is set to 150, but your input_length is only 52. Since this is a summarization task, where outputs shorter than the input are typically wanted, you might consider decreasing max_length manually, e.g. summarizer('...', max_length=26)\n",
      "Your max_length is set to 150, but your input_length is only 44. Since this is a summarization task, where outputs shorter than the input are typically wanted, you might consider decreasing max_length manually, e.g. summarizer('...', max_length=22)\n",
      "Your max_length is set to 150, but your input_length is only 52. Since this is a summarization task, where outputs shorter than the input are typically wanted, you might consider decreasing max_length manually, e.g. summarizer('...', max_length=26)\n",
      "Your max_length is set to 150, but your input_length is only 79. Since this is a summarization task, where outputs shorter than the input are typically wanted, you might consider decreasing max_length manually, e.g. summarizer('...', max_length=39)\n",
      "Your max_length is set to 150, but your input_length is only 56. Since this is a summarization task, where outputs shorter than the input are typically wanted, you might consider decreasing max_length manually, e.g. summarizer('...', max_length=28)\n",
      "Your max_length is set to 150, but your input_length is only 121. Since this is a summarization task, where outputs shorter than the input are typically wanted, you might consider decreasing max_length manually, e.g. summarizer('...', max_length=60)\n",
      "Your max_length is set to 150, but your input_length is only 56. Since this is a summarization task, where outputs shorter than the input are typically wanted, you might consider decreasing max_length manually, e.g. summarizer('...', max_length=28)\n",
      "Your max_length is set to 150, but your input_length is only 46. Since this is a summarization task, where outputs shorter than the input are typically wanted, you might consider decreasing max_length manually, e.g. summarizer('...', max_length=23)\n",
      "Your max_length is set to 150, but your input_length is only 52. Since this is a summarization task, where outputs shorter than the input are typically wanted, you might consider decreasing max_length manually, e.g. summarizer('...', max_length=26)\n",
      "Your max_length is set to 150, but your input_length is only 147. Since this is a summarization task, where outputs shorter than the input are typically wanted, you might consider decreasing max_length manually, e.g. summarizer('...', max_length=73)\n",
      "Your max_length is set to 150, but your input_length is only 120. Since this is a summarization task, where outputs shorter than the input are typically wanted, you might consider decreasing max_length manually, e.g. summarizer('...', max_length=60)\n",
      "Your max_length is set to 150, but your input_length is only 63. Since this is a summarization task, where outputs shorter than the input are typically wanted, you might consider decreasing max_length manually, e.g. summarizer('...', max_length=31)\n",
      "Your max_length is set to 150, but your input_length is only 90. Since this is a summarization task, where outputs shorter than the input are typically wanted, you might consider decreasing max_length manually, e.g. summarizer('...', max_length=45)\n",
      "Your max_length is set to 150, but your input_length is only 51. Since this is a summarization task, where outputs shorter than the input are typically wanted, you might consider decreasing max_length manually, e.g. summarizer('...', max_length=25)\n",
      "Your max_length is set to 150, but your input_length is only 53. Since this is a summarization task, where outputs shorter than the input are typically wanted, you might consider decreasing max_length manually, e.g. summarizer('...', max_length=26)\n",
      "Your max_length is set to 150, but your input_length is only 44. Since this is a summarization task, where outputs shorter than the input are typically wanted, you might consider decreasing max_length manually, e.g. summarizer('...', max_length=22)\n",
      "Your max_length is set to 150, but your input_length is only 49. Since this is a summarization task, where outputs shorter than the input are typically wanted, you might consider decreasing max_length manually, e.g. summarizer('...', max_length=24)\n",
      "Your max_length is set to 150, but your input_length is only 112. Since this is a summarization task, where outputs shorter than the input are typically wanted, you might consider decreasing max_length manually, e.g. summarizer('...', max_length=56)\n",
      "Your max_length is set to 150, but your input_length is only 40. Since this is a summarization task, where outputs shorter than the input are typically wanted, you might consider decreasing max_length manually, e.g. summarizer('...', max_length=20)\n",
      "Your max_length is set to 150, but your input_length is only 57. Since this is a summarization task, where outputs shorter than the input are typically wanted, you might consider decreasing max_length manually, e.g. summarizer('...', max_length=28)\n",
      "Your max_length is set to 150, but your input_length is only 128. Since this is a summarization task, where outputs shorter than the input are typically wanted, you might consider decreasing max_length manually, e.g. summarizer('...', max_length=64)\n",
      "Your max_length is set to 150, but your input_length is only 73. Since this is a summarization task, where outputs shorter than the input are typically wanted, you might consider decreasing max_length manually, e.g. summarizer('...', max_length=36)\n"
     ]
    },
    {
     "data": {
      "text/html": [
       "<div>\n",
       "<style scoped>\n",
       "    .dataframe tbody tr th:only-of-type {\n",
       "        vertical-align: middle;\n",
       "    }\n",
       "\n",
       "    .dataframe tbody tr th {\n",
       "        vertical-align: top;\n",
       "    }\n",
       "\n",
       "    .dataframe thead th {\n",
       "        text-align: right;\n",
       "    }\n",
       "</style>\n",
       "<table border=\"1\" class=\"dataframe\">\n",
       "  <thead>\n",
       "    <tr style=\"text-align: right;\">\n",
       "      <th></th>\n",
       "      <th>title</th>\n",
       "      <th>text</th>\n",
       "      <th>author</th>\n",
       "      <th>source</th>\n",
       "      <th>Translated_text</th>\n",
       "      <th>Summarised-text</th>\n",
       "    </tr>\n",
       "  </thead>\n",
       "  <tbody>\n",
       "    <tr>\n",
       "      <th>0</th>\n",
       "      <td>Warum nicht mal die Russen Putins Impfstoff wo...</td>\n",
       "      <td>Im Kreml sollte es in diesen Tagen eigentlich ...</td>\n",
       "      <td>Pavel Lokshin</td>\n",
       "      <td>welt</td>\n",
       "      <td>There should actually be enough reasons for tu...</td>\n",
       "      <td>the number of new infections has more than dou...</td>\n",
       "    </tr>\n",
       "    <tr>\n",
       "      <th>30</th>\n",
       "      <td>Gegen diesen Wasserstoff-Plan wirkt die deutsc...</td>\n",
       "      <td>An der Great Northern Road schrauben Monteure ...</td>\n",
       "      <td>Stefanie Bolzen</td>\n",
       "      <td>welt</td>\n",
       "      <td>At the Great Northern Road screws fitters arou...</td>\n",
       "      <td>Scotland's northeastern lives in the future th...</td>\n",
       "    </tr>\n",
       "    <tr>\n",
       "      <th>39</th>\n",
       "      <td>Über 5000 Neuinfektionen – Merkels 19.200er-Sz...</td>\n",
       "      <td>Zwischen Ende Juni und Ende September hat sich...</td>\n",
       "      <td>Olaf Gersemann</td>\n",
       "      <td>welt</td>\n",
       "      <td>Between the end of June and the end of Septemb...</td>\n",
       "      <td>between end of June and the end of September, ...</td>\n",
       "    </tr>\n",
       "    <tr>\n",
       "      <th>44</th>\n",
       "      <td>Zaubertore! Hier schießen sich Toni Kroos und ...</td>\n",
       "      <td>Das DFB-Team trifft in der Nations League auf ...</td>\n",
       "      <td>Unknown</td>\n",
       "      <td>welt</td>\n",
       "      <td>The DFB team meets Ukraine in the Nations Leag...</td>\n",
       "      <td>the DFB team meets Ukraine in the Nations Leag...</td>\n",
       "    </tr>\n",
       "    <tr>\n",
       "      <th>45</th>\n",
       "      <td>FDP entzieht Thüringer Parteichef die Unterstü...</td>\n",
       "      <td>as Präsidium der Bundes-FDP hat dem thüringisc...</td>\n",
       "      <td>'Luisa Hofmeier', 'Geli Tangermann', 'Torsten ...</td>\n",
       "      <td>welt</td>\n",
       "      <td>AS Presidium of the Federal FDP withdrawn the ...</td>\n",
       "      <td>the early state election will be held on April...</td>\n",
       "    </tr>\n",
       "    <tr>\n",
       "      <th>...</th>\n",
       "      <td>...</td>\n",
       "      <td>...</td>\n",
       "      <td>...</td>\n",
       "      <td>...</td>\n",
       "      <td>...</td>\n",
       "      <td>...</td>\n",
       "    </tr>\n",
       "    <tr>\n",
       "      <th>595</th>\n",
       "      <td>Brasiliens überraschendes Comeback</td>\n",
       "      <td>Die Tendenz der Corona-Infektionen: In Argenti...</td>\n",
       "      <td>Tobias Käufer</td>\n",
       "      <td>welt</td>\n",
       "      <td>The tendency of the Corona infections: rising ...</td>\n",
       "      <td>the tendency of the Corona infections: rising ...</td>\n",
       "    </tr>\n",
       "    <tr>\n",
       "      <th>601</th>\n",
       "      <td>Erdogans neuer Krieg</td>\n",
       "      <td>Die Türkei unterstützt in Berg-Karabach das mu...</td>\n",
       "      <td>Alfred Hackensberger</td>\n",
       "      <td>welt</td>\n",
       "      <td>Turkey supports the Muslim Azerbaijan in Berg-...</td>\n",
       "      <td>turkey supports the Muslim Azerbaijan in Berg-...</td>\n",
       "    </tr>\n",
       "    <tr>\n",
       "      <th>614</th>\n",
       "      <td>„Ich musste noch allen die Schuhe putzen“</td>\n",
       "      <td>Bevor sich Steffen Freund auf den Rückweg begi...</td>\n",
       "      <td>Lars Gartenschläger</td>\n",
       "      <td>welt</td>\n",
       "      <td>Before Steffen Freund goes back to regulate hi...</td>\n",
       "      <td>Steffen Freund leaves him with a Mercedes befo...</td>\n",
       "    </tr>\n",
       "    <tr>\n",
       "      <th>627</th>\n",
       "      <td>Ein von Willkür geprägtes System</td>\n",
       "      <td>Dass Beamte vor Gericht gehen, weil sie sich b...</td>\n",
       "      <td>Arnd Diringer</td>\n",
       "      <td>welt</td>\n",
       "      <td>From time to time, officials go to court becau...</td>\n",
       "      <td>the higher administrative court of Rhineland-P...</td>\n",
       "    </tr>\n",
       "    <tr>\n",
       "      <th>628</th>\n",
       "      <td>Für die Genossen nahm Grünen-Stadtrat Schmidt ...</td>\n",
       "      <td>In Berlin kauft eine Genossenschaft mithilfe d...</td>\n",
       "      <td>Sebastian Beug</td>\n",
       "      <td>welt</td>\n",
       "      <td>In Berlin, a cooperative buys six houses with ...</td>\n",
       "      <td>a cooperative buys six houses with the help of...</td>\n",
       "    </tr>\n",
       "  </tbody>\n",
       "</table>\n",
       "<p>70 rows × 6 columns</p>\n",
       "</div>"
      ],
      "text/plain": [
       "                                                 title  \\\n",
       "0    Warum nicht mal die Russen Putins Impfstoff wo...   \n",
       "30   Gegen diesen Wasserstoff-Plan wirkt die deutsc...   \n",
       "39   Über 5000 Neuinfektionen – Merkels 19.200er-Sz...   \n",
       "44   Zaubertore! Hier schießen sich Toni Kroos und ...   \n",
       "45   FDP entzieht Thüringer Parteichef die Unterstü...   \n",
       "..                                                 ...   \n",
       "595                 Brasiliens überraschendes Comeback   \n",
       "601                               Erdogans neuer Krieg   \n",
       "614          „Ich musste noch allen die Schuhe putzen“   \n",
       "627                   Ein von Willkür geprägtes System   \n",
       "628  Für die Genossen nahm Grünen-Stadtrat Schmidt ...   \n",
       "\n",
       "                                                  text  \\\n",
       "0    Im Kreml sollte es in diesen Tagen eigentlich ...   \n",
       "30   An der Great Northern Road schrauben Monteure ...   \n",
       "39   Zwischen Ende Juni und Ende September hat sich...   \n",
       "44   Das DFB-Team trifft in der Nations League auf ...   \n",
       "45   as Präsidium der Bundes-FDP hat dem thüringisc...   \n",
       "..                                                 ...   \n",
       "595  Die Tendenz der Corona-Infektionen: In Argenti...   \n",
       "601  Die Türkei unterstützt in Berg-Karabach das mu...   \n",
       "614  Bevor sich Steffen Freund auf den Rückweg begi...   \n",
       "627  Dass Beamte vor Gericht gehen, weil sie sich b...   \n",
       "628  In Berlin kauft eine Genossenschaft mithilfe d...   \n",
       "\n",
       "                                                author source  \\\n",
       "0                                        Pavel Lokshin   welt   \n",
       "30                                     Stefanie Bolzen   welt   \n",
       "39                                      Olaf Gersemann   welt   \n",
       "44                                             Unknown   welt   \n",
       "45   'Luisa Hofmeier', 'Geli Tangermann', 'Torsten ...   welt   \n",
       "..                                                 ...    ...   \n",
       "595                                      Tobias Käufer   welt   \n",
       "601                               Alfred Hackensberger   welt   \n",
       "614                                Lars Gartenschläger   welt   \n",
       "627                                      Arnd Diringer   welt   \n",
       "628                                     Sebastian Beug   welt   \n",
       "\n",
       "                                       Translated_text  \\\n",
       "0    There should actually be enough reasons for tu...   \n",
       "30   At the Great Northern Road screws fitters arou...   \n",
       "39   Between the end of June and the end of Septemb...   \n",
       "44   The DFB team meets Ukraine in the Nations Leag...   \n",
       "45   AS Presidium of the Federal FDP withdrawn the ...   \n",
       "..                                                 ...   \n",
       "595  The tendency of the Corona infections: rising ...   \n",
       "601  Turkey supports the Muslim Azerbaijan in Berg-...   \n",
       "614  Before Steffen Freund goes back to regulate hi...   \n",
       "627  From time to time, officials go to court becau...   \n",
       "628  In Berlin, a cooperative buys six houses with ...   \n",
       "\n",
       "                                       Summarised-text  \n",
       "0    the number of new infections has more than dou...  \n",
       "30   Scotland's northeastern lives in the future th...  \n",
       "39   between end of June and the end of September, ...  \n",
       "44   the DFB team meets Ukraine in the Nations Leag...  \n",
       "45   the early state election will be held on April...  \n",
       "..                                                 ...  \n",
       "595  the tendency of the Corona infections: rising ...  \n",
       "601  turkey supports the Muslim Azerbaijan in Berg-...  \n",
       "614  Steffen Freund leaves him with a Mercedes befo...  \n",
       "627  the higher administrative court of Rhineland-P...  \n",
       "628  a cooperative buys six houses with the help of...  \n",
       "\n",
       "[70 rows x 6 columns]"
      ]
     },
     "execution_count": 20,
     "metadata": {},
     "output_type": "execute_result"
    }
   ],
   "source": [
    "# Loading the text summarization pipeline with the desired model\n",
    "summarizer = pipeline(\"summarization\", model=\"t5-base\", revision=\"main\")\n",
    "\n",
    "# Function to generate summary for non-missing values and replace them in the Dataset\n",
    "def generate_summary(text):\n",
    "    if pd.notnull(text):  # Checking if the value is not NaN\n",
    "        summary = summarizer(text, max_length=150, min_length=40, num_beams=4, do_sample=False)\n",
    "        return summary[0]['summary_text']\n",
    "    else:\n",
    "        return text  # Returning NaN for missing values\n",
    "\n",
    "# Applying the generate_summary function to the 'Translated_text' column\n",
    "df['Summarised-text'] = df['Translated_text'].apply(generate_summary)\n",
    "\n",
    "df.head(70)\n"
   ]
  },
  {
   "attachments": {},
   "cell_type": "markdown",
   "metadata": {},
   "source": [
    "Rouge score is used to evaluate text summaries for quality. By calculating the Rouge score of the manual created summaries and the machine generated summaries we will compare and check the results of both the summaries. The Rouge score is a tool used to compare the summaries in n-grams of manually generated versus machine generated summaries. Lastly, the determined Rouge Score result will be displayed to us. This will show how effectively the summaries produced by machines capture the important details in comparison to those created by manually."
   ]
  },
  {
   "cell_type": "code",
   "execution_count": 44,
   "metadata": {},
   "outputs": [
    {
     "name": "stdout",
     "output_type": "stream",
     "text": [
      "ROUGE Scores:\n",
      "{'rouge-1': {'r': 0.21365007541478132, 'p': 0.1413487016428193, 'f': 0.1678690616970145}, 'rouge-2': {'r': 0.03267841574293187, 'p': 0.020399958228905595, 'f': 0.024660087270561862}, 'rouge-l': {'r': 0.19347662141779787, 'p': 0.12644674085850555, 'f': 0.15075075369965824}}\n"
     ]
    }
   ],
   "source": [
    "from rouge import Rouge\n",
    "\n",
    "# Extract manually generated summaries for the first 4 rows from the 'Summarised-text' column\n",
    "manually_generated_summaries = df['Summarised-text'].iloc[6:10].tolist()\n",
    "\n",
    "# Define machine-generated summaries\n",
    "machine_generated_summaries = [\n",
    "    \"In addition, an inflation compensation border of 3,000 euros and other allowances, such as a higher vacation allowance, were agreed.These can now decide on acceptance or rejection of the result in a survey running until mid -April.Lufthansa Human Resources Director Michael Niggemann also spoke of a good compromise, which is also a 'great economic challenge'.\",\n",
    "    \"In the past few days, the Union had asked Federal President Frank-Walter Steinmeier not to sign the law.The expert commission with experts from the fields of medicine, law, traffic and the police has now come to a result.\",\n",
    "    \"Most recently, Germany had fallen below the brand in the 2019 pre-Corona year with a value of 59.6 percent.After that, the federal and state governments are no longer allowed to compensate for their budget deficits by taking out loans.While an absolute debt is valid for the countries, the federal government has a small scope.\",\n",
    "    \"The most promising candidate, Maria Corina Machado, was banned in advance due to alleged irregularities from her time as a member of the exercise of public office for 15 years.\"\n",
    "    \"At the crucial moment, however, Zverev was there and made the semi-finals perfect with the only break of the set after 1:37 hours.Through the sovereign 6: 4, 6: 2 in the quarter -finals against the Czech Tomas Machac on Wednesday (27.3.2024 / local time) Sinner was the first player to book his ticket for the round of the best four.\"\n",
    "]\n",
    "\n",
    "\n",
    "# Initialize ROUGE\n",
    "rouge = Rouge()\n",
    "\n",
    "# Calculate ROUGE scores\n",
    "rouge_scores = rouge.get_scores(machine_generated_summaries, manually_generated_summaries, avg=True)\n",
    "\n",
    "# Print ROUGE scores\n",
    "print(\"ROUGE Scores:\")\n",
    "print(rouge_scores)\n"
   ]
  }
 ],
 "metadata": {
  "kernelspec": {
   "display_name": "Python 3",
   "language": "python",
   "name": "python3"
  },
  "language_info": {
   "codemirror_mode": {
    "name": "ipython",
    "version": 3
   },
   "file_extension": ".py",
   "mimetype": "text/x-python",
   "name": "python",
   "nbconvert_exporter": "python",
   "pygments_lexer": "ipython3",
   "version": "3.11.1"
  },
  "orig_nbformat": 4,
  "vscode": {
   "interpreter": {
    "hash": "aee8b7b246df8f9039afb4144a1f6fd8d2ca17a180786b69acc140d282b71a49"
   }
  }
 },
 "nbformat": 4,
 "nbformat_minor": 2
}
